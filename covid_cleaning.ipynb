{
 "cells": [
  {
   "cell_type": "code",
   "execution_count": 1,
   "metadata": {},
   "outputs": [],
   "source": [
    "import pandas as pd\n",
    "import numpy as np\n",
    "import matplotlib.pyplot as plt\n",
    "import datetime\n",
    "import seaborn as sb\n",
    "%matplotlib inline"
   ]
  },
  {
   "cell_type": "code",
   "execution_count": 49,
   "metadata": {
    "scrolled": false
   },
   "outputs": [],
   "source": [
    "df = pd.read_csv('covid_surveillance06.16.20.csv')"
   ]
  },
  {
   "cell_type": "markdown",
   "metadata": {},
   "source": [
    "## Gathering Data"
   ]
  },
  {
   "cell_type": "code",
   "execution_count": 3,
   "metadata": {
    "scrolled": true
   },
   "outputs": [
    {
     "data": {
      "text/html": [
       "<div>\n",
       "<style scoped>\n",
       "    .dataframe tbody tr th:only-of-type {\n",
       "        vertical-align: middle;\n",
       "    }\n",
       "\n",
       "    .dataframe tbody tr th {\n",
       "        vertical-align: top;\n",
       "    }\n",
       "\n",
       "    .dataframe thead th {\n",
       "        text-align: right;\n",
       "    }\n",
       "</style>\n",
       "<table border=\"1\" class=\"dataframe\">\n",
       "  <thead>\n",
       "    <tr style=\"text-align: right;\">\n",
       "      <th></th>\n",
       "      <th>record_id</th>\n",
       "      <th>redcap_event_name</th>\n",
       "      <th>redcap_survey_identifier</th>\n",
       "      <th>covid19_surveillance_survey_timestamp</th>\n",
       "      <th>languages</th>\n",
       "      <th>uuid</th>\n",
       "      <th>timestamp</th>\n",
       "      <th>zipcode</th>\n",
       "      <th>age_person1</th>\n",
       "      <th>gender_person1</th>\n",
       "      <th>...</th>\n",
       "      <th>symptoms___11</th>\n",
       "      <th>symptoms___12</th>\n",
       "      <th>symptoms___13</th>\n",
       "      <th>symptoms___14</th>\n",
       "      <th>symptoms___15</th>\n",
       "      <th>symptoms___16</th>\n",
       "      <th>symptoms___17</th>\n",
       "      <th>symptoms___18</th>\n",
       "      <th>scale</th>\n",
       "      <th>sick_checkin_complete</th>\n",
       "    </tr>\n",
       "  </thead>\n",
       "  <tbody>\n",
       "    <tr>\n",
       "      <th>0</th>\n",
       "      <td>14</td>\n",
       "      <td>event_1_arm_1</td>\n",
       "      <td>NaN</td>\n",
       "      <td>NaN</td>\n",
       "      <td>1.0</td>\n",
       "      <td>3DIMHTKIJE</td>\n",
       "      <td>NaN</td>\n",
       "      <td>85719.0</td>\n",
       "      <td>NaN</td>\n",
       "      <td>NaN</td>\n",
       "      <td>...</td>\n",
       "      <td>NaN</td>\n",
       "      <td>NaN</td>\n",
       "      <td>NaN</td>\n",
       "      <td>NaN</td>\n",
       "      <td>NaN</td>\n",
       "      <td>NaN</td>\n",
       "      <td>NaN</td>\n",
       "      <td>NaN</td>\n",
       "      <td>NaN</td>\n",
       "      <td>NaN</td>\n",
       "    </tr>\n",
       "    <tr>\n",
       "      <th>1</th>\n",
       "      <td>18</td>\n",
       "      <td>event_1_arm_1</td>\n",
       "      <td>NaN</td>\n",
       "      <td>NaN</td>\n",
       "      <td>1.0</td>\n",
       "      <td>1CSNRPGW0I</td>\n",
       "      <td>NaN</td>\n",
       "      <td>85701.0</td>\n",
       "      <td>NaN</td>\n",
       "      <td>NaN</td>\n",
       "      <td>...</td>\n",
       "      <td>NaN</td>\n",
       "      <td>NaN</td>\n",
       "      <td>NaN</td>\n",
       "      <td>NaN</td>\n",
       "      <td>NaN</td>\n",
       "      <td>NaN</td>\n",
       "      <td>NaN</td>\n",
       "      <td>NaN</td>\n",
       "      <td>NaN</td>\n",
       "      <td>NaN</td>\n",
       "    </tr>\n",
       "    <tr>\n",
       "      <th>2</th>\n",
       "      <td>21</td>\n",
       "      <td>event_1_arm_1</td>\n",
       "      <td>NaN</td>\n",
       "      <td>2020-04-05 06:35:48</td>\n",
       "      <td>1.0</td>\n",
       "      <td>5DV83RLPVK</td>\n",
       "      <td>NaN</td>\n",
       "      <td>85745.0</td>\n",
       "      <td>45.0</td>\n",
       "      <td>1.0</td>\n",
       "      <td>...</td>\n",
       "      <td>NaN</td>\n",
       "      <td>NaN</td>\n",
       "      <td>NaN</td>\n",
       "      <td>NaN</td>\n",
       "      <td>NaN</td>\n",
       "      <td>NaN</td>\n",
       "      <td>NaN</td>\n",
       "      <td>NaN</td>\n",
       "      <td>NaN</td>\n",
       "      <td>NaN</td>\n",
       "    </tr>\n",
       "    <tr>\n",
       "      <th>3</th>\n",
       "      <td>21</td>\n",
       "      <td>event_2_arm_1</td>\n",
       "      <td>NaN</td>\n",
       "      <td>2020-04-20 12:47:34</td>\n",
       "      <td>1.0</td>\n",
       "      <td>NaN</td>\n",
       "      <td>2020-04-20</td>\n",
       "      <td>NaN</td>\n",
       "      <td>NaN</td>\n",
       "      <td>NaN</td>\n",
       "      <td>...</td>\n",
       "      <td>NaN</td>\n",
       "      <td>NaN</td>\n",
       "      <td>NaN</td>\n",
       "      <td>NaN</td>\n",
       "      <td>NaN</td>\n",
       "      <td>NaN</td>\n",
       "      <td>NaN</td>\n",
       "      <td>NaN</td>\n",
       "      <td>NaN</td>\n",
       "      <td>NaN</td>\n",
       "    </tr>\n",
       "    <tr>\n",
       "      <th>4</th>\n",
       "      <td>21</td>\n",
       "      <td>event_3_arm_1</td>\n",
       "      <td>NaN</td>\n",
       "      <td>2020-04-27 10:24:34</td>\n",
       "      <td>1.0</td>\n",
       "      <td>NaN</td>\n",
       "      <td>2020-04-27</td>\n",
       "      <td>NaN</td>\n",
       "      <td>NaN</td>\n",
       "      <td>NaN</td>\n",
       "      <td>...</td>\n",
       "      <td>NaN</td>\n",
       "      <td>NaN</td>\n",
       "      <td>NaN</td>\n",
       "      <td>NaN</td>\n",
       "      <td>NaN</td>\n",
       "      <td>NaN</td>\n",
       "      <td>NaN</td>\n",
       "      <td>NaN</td>\n",
       "      <td>NaN</td>\n",
       "      <td>NaN</td>\n",
       "    </tr>\n",
       "  </tbody>\n",
       "</table>\n",
       "<p>5 rows × 785 columns</p>\n",
       "</div>"
      ],
      "text/plain": [
       "   record_id redcap_event_name  redcap_survey_identifier  \\\n",
       "0         14     event_1_arm_1                       NaN   \n",
       "1         18     event_1_arm_1                       NaN   \n",
       "2         21     event_1_arm_1                       NaN   \n",
       "3         21     event_2_arm_1                       NaN   \n",
       "4         21     event_3_arm_1                       NaN   \n",
       "\n",
       "  covid19_surveillance_survey_timestamp  languages        uuid   timestamp  \\\n",
       "0                                   NaN        1.0  3DIMHTKIJE         NaN   \n",
       "1                                   NaN        1.0  1CSNRPGW0I         NaN   \n",
       "2                   2020-04-05 06:35:48        1.0  5DV83RLPVK         NaN   \n",
       "3                   2020-04-20 12:47:34        1.0         NaN  2020-04-20   \n",
       "4                   2020-04-27 10:24:34        1.0         NaN  2020-04-27   \n",
       "\n",
       "   zipcode  age_person1  gender_person1  ...  symptoms___11  symptoms___12  \\\n",
       "0  85719.0          NaN             NaN  ...            NaN            NaN   \n",
       "1  85701.0          NaN             NaN  ...            NaN            NaN   \n",
       "2  85745.0         45.0             1.0  ...            NaN            NaN   \n",
       "3      NaN          NaN             NaN  ...            NaN            NaN   \n",
       "4      NaN          NaN             NaN  ...            NaN            NaN   \n",
       "\n",
       "   symptoms___13  symptoms___14  symptoms___15  symptoms___16  symptoms___17  \\\n",
       "0            NaN            NaN            NaN            NaN            NaN   \n",
       "1            NaN            NaN            NaN            NaN            NaN   \n",
       "2            NaN            NaN            NaN            NaN            NaN   \n",
       "3            NaN            NaN            NaN            NaN            NaN   \n",
       "4            NaN            NaN            NaN            NaN            NaN   \n",
       "\n",
       "   symptoms___18  scale  sick_checkin_complete  \n",
       "0            NaN    NaN                    NaN  \n",
       "1            NaN    NaN                    NaN  \n",
       "2            NaN    NaN                    NaN  \n",
       "3            NaN    NaN                    NaN  \n",
       "4            NaN    NaN                    NaN  \n",
       "\n",
       "[5 rows x 785 columns]"
      ]
     },
     "execution_count": 3,
     "metadata": {},
     "output_type": "execute_result"
    }
   ],
   "source": [
    "df.head()"
   ]
  },
  {
   "cell_type": "code",
   "execution_count": 4,
   "metadata": {},
   "outputs": [
    {
     "data": {
      "text/plain": [
       "(12071, 785)"
      ]
     },
     "execution_count": 4,
     "metadata": {},
     "output_type": "execute_result"
    }
   ],
   "source": [
    "df.shape"
   ]
  },
  {
   "cell_type": "code",
   "execution_count": 50,
   "metadata": {
    "scrolled": true
   },
   "outputs": [
    {
     "name": "stdout",
     "output_type": "stream",
     "text": [
      "<class 'pandas.core.frame.DataFrame'>\n",
      "RangeIndex: 12071 entries, 0 to 12070\n",
      "Data columns (total 785 columns):\n",
      " #   Column                                 Dtype  \n",
      "---  ------                                 -----  \n",
      " 0   record_id                              int64  \n",
      " 1   redcap_event_name                      object \n",
      " 2   redcap_survey_identifier               float64\n",
      " 3   covid19_surveillance_survey_timestamp  object \n",
      " 4   languages                              float64\n",
      " 5   uuid                                   object \n",
      " 6   timestamp                              object \n",
      " 7   zipcode                                float64\n",
      " 8   age_person1                            float64\n",
      " 9   gender_person1                         float64\n",
      " 10  ethnicity                              float64\n",
      " 11  race                                   float64\n",
      " 12  veteran                                float64\n",
      " 13  veteran_number                         float64\n",
      " 14  work_person1                           float64\n",
      " 15  pre_cond_person1___1                   int64  \n",
      " 16  pre_cond_person1___2                   int64  \n",
      " 17  pre_cond_person1___3                   int64  \n",
      " 18  pre_cond_person1___4                   int64  \n",
      " 19  pre_cond_person1___5                   int64  \n",
      " 20  pre_cond_person1___8                   int64  \n",
      " 21  pre_cond_person1___9                   int64  \n",
      " 22  pre_cond_person1___10                  int64  \n",
      " 23  pre_cond_person1___11                  int64  \n",
      " 24  pre_cond_person1___6                   int64  \n",
      " 25  pre_cond_person1___7                   int64  \n",
      " 26  other_pre_cond_person1                 object \n",
      " 27  contact_person1                        float64\n",
      " 28  household_size                         float64\n",
      " 29  person_1_name                          object \n",
      " 30  person_2_name                          object \n",
      " 31  person_3_name                          object \n",
      " 32  person_4_name                          object \n",
      " 33  person_5_name                          object \n",
      " 34  person_6_name                          object \n",
      " 35  person_7_name                          object \n",
      " 36  person_8_name                          object \n",
      " 37  person_9_name                          object \n",
      " 38  person_10_name                         object \n",
      " 39  health_household                       float64\n",
      " 40  sick_choice_2___1                      int64  \n",
      " 41  sick_choice_2___2                      int64  \n",
      " 42  sick_choice_3___1                      int64  \n",
      " 43  sick_choice_3___2                      int64  \n",
      " 44  sick_choice_3___3                      int64  \n",
      " 45  sick_choice_4___1                      int64  \n",
      " 46  sick_choice_4___2                      int64  \n",
      " 47  sick_choice_4___3                      int64  \n",
      " 48  sick_choice_4___4                      int64  \n",
      " 49  sick_choice_5___1                      int64  \n",
      " 50  sick_choice_5___2                      int64  \n",
      " 51  sick_choice_5___3                      int64  \n",
      " 52  sick_choice_5___4                      int64  \n",
      " 53  sick_choice_5___5                      int64  \n",
      " 54  sick_choice_6___1                      int64  \n",
      " 55  sick_choice_6___2                      int64  \n",
      " 56  sick_choice_6___3                      int64  \n",
      " 57  sick_choice_6___4                      int64  \n",
      " 58  sick_choice_6___5                      int64  \n",
      " 59  sick_choice_6___6                      int64  \n",
      " 60  sick_choice_7___1                      int64  \n",
      " 61  sick_choice_7___2                      int64  \n",
      " 62  sick_choice_7___3                      int64  \n",
      " 63  sick_choice_7___4                      int64  \n",
      " 64  sick_choice_7___5                      int64  \n",
      " 65  sick_choice_7___6                      int64  \n",
      " 66  sick_choice_7___7                      int64  \n",
      " 67  sick_choice_8___1                      int64  \n",
      " 68  sick_choice_8___2                      int64  \n",
      " 69  sick_choice_8___3                      int64  \n",
      " 70  sick_choice_8___4                      int64  \n",
      " 71  sick_choice_8___5                      int64  \n",
      " 72  sick_choice_8___6                      int64  \n",
      " 73  sick_choice_8___7                      int64  \n",
      " 74  sick_choice_8___8                      int64  \n",
      " 75  sick_choice_9___1                      int64  \n",
      " 76  sick_choice_9___2                      int64  \n",
      " 77  sick_choice_9___3                      int64  \n",
      " 78  sick_choice_9___4                      int64  \n",
      " 79  sick_choice_9___5                      int64  \n",
      " 80  sick_choice_9___6                      int64  \n",
      " 81  sick_choice_9___7                      int64  \n",
      " 82  sick_choice_9___8                      int64  \n",
      " 83  sick_choice_9___9                      int64  \n",
      " 84  sick_choice_10___1                     int64  \n",
      " 85  sick_choice_10___2                     int64  \n",
      " 86  sick_choice_10___3                     int64  \n",
      " 87  sick_choice_10___4                     int64  \n",
      " 88  sick_choice_10___5                     int64  \n",
      " 89  sick_choice_10___6                     int64  \n",
      " 90  sick_choice_10___7                     int64  \n",
      " 91  sick_choice_10___8                     int64  \n",
      " 92  sick_choice_10___9                     int64  \n",
      " 93  sick_choice_10___10                    int64  \n",
      " 94  person_1_symptoms___1                  int64  \n",
      " 95  person_1_symptoms___2                  int64  \n",
      " 96  person_1_symptoms___3                  int64  \n",
      " 97  person_1_symptoms___4                  int64  \n",
      " 98  person_1_symptoms___5                  int64  \n",
      " 99  person_1_symptoms___6                  int64  \n",
      " 100 person_1_symptoms___7                  int64  \n",
      " 101 person_1_symptoms___8                  int64  \n",
      " 102 person_1_symptoms___9                  int64  \n",
      " 103 person_1_symptoms___10                 int64  \n",
      " 104 person_1_symptoms___11                 int64  \n",
      " 105 person_1_symptoms___12                 int64  \n",
      " 106 person_1_symptoms___13                 int64  \n",
      " 107 person_1_symptoms___14                 int64  \n",
      " 108 fever_temp_person1                     object \n",
      " 109 unit_temp_person1                      float64\n",
      " 110 symp_date_person1                      object \n",
      " 111 health_location_person1                float64\n",
      " 112 testing_person1___1                    int64  \n",
      " 113 testing_person1___2                    int64  \n",
      " 114 testing_person1___3                    int64  \n",
      " 115 testing_person1___4                    int64  \n",
      " 116 testing_person1___8                    int64  \n",
      " 117 testing_person1___5                    int64  \n",
      " 118 testing_person1___6                    int64  \n",
      " 119 testing_person1___7                    int64  \n",
      " 120 ask_test_person1                       float64\n",
      " 121 positive_test_person1___1              int64  \n",
      " 122 positive_test_person1___2              int64  \n",
      " 123 positive_test_person1___3              int64  \n",
      " 124 positive_test_person1___4              int64  \n",
      " 125 positive_test_person1___8              int64  \n",
      " 126 positive_test_person1___5              int64  \n",
      " 127 positive_test_person1___9              int64  \n",
      " 128 positive_test_person1___6              int64  \n",
      " 129 positive_test_person1___7              int64  \n",
      " 130 results_influenza_person1              float64\n",
      " 131 results_covid19_person1                object \n",
      " 132 results_rsv_person1                    float64\n",
      " 133 results_dengue_person1                 float64\n",
      " 134 travel_person1                         float64\n",
      " 135 travel_dest_person1___1                int64  \n",
      " 136 travel_dest_person1___2                int64  \n",
      " 137 travel_dest_person1___3                int64  \n",
      " 138 travel_dest_person1___4                int64  \n",
      " 139 travel_dest_person1___5                int64  \n",
      " 140 travel_dest_person1___6                int64  \n",
      " 141 travel_dest_person1___7                int64  \n",
      " 142 travel_dest_person1___8                int64  \n",
      " 143 state_travel_person1                   object \n",
      " 144 age_person2                            float64\n",
      " 145 gender_person2                         float64\n",
      " 146 pre_cond_person2___1                   int64  \n",
      " 147 pre_cond_person2___2                   int64  \n",
      " 148 pre_cond_person2___3                   int64  \n",
      " 149 pre_cond_person2___4                   int64  \n",
      " 150 pre_cond_person2___5                   int64  \n",
      " 151 pre_cond_person2___8                   int64  \n",
      " 152 pre_cond_person2___9                   int64  \n",
      " 153 pre_cond_person2___10                  int64  \n",
      " 154 pre_cond_person2___11                  int64  \n",
      " 155 pre_cond_person2___6                   int64  \n",
      " 156 pre_cond_person2___7                   int64  \n",
      " 157 other_pre_cond_person2                 object \n",
      " 158 person_2_symptoms___1                  int64  \n",
      " 159 person_2_symptoms___2                  int64  \n",
      " 160 person_2_symptoms___3                  int64  \n",
      " 161 person_2_symptoms___4                  int64  \n",
      " 162 person_2_symptoms___5                  int64  \n",
      " 163 person_2_symptoms___6                  int64  \n",
      " 164 person_2_symptoms___7                  int64  \n",
      " 165 person_2_symptoms___8                  int64  \n",
      " 166 person_2_symptoms___9                  int64  \n",
      " 167 person_2_symptoms___10                 int64  \n",
      " 168 person_2_symptoms___11                 int64  \n",
      " 169 person_2_symptoms___12                 int64  \n",
      " 170 person_2_symptoms___13                 int64  \n",
      " 171 person_2_symptoms___14                 int64  \n",
      " 172 fever_temp_person2                     object \n",
      " 173 unit_temp_person2                      float64\n",
      " 174 symp_date_person2                      object \n",
      " 175 health_visit_person2                   float64\n",
      " 176 testing_person2___1                    int64  \n",
      " 177 testing_person2___2                    int64  \n",
      " 178 testing_person2___3                    int64  \n",
      " 179 testing_person2___4                    int64  \n",
      " 180 testing_person2___8                    int64  \n",
      " 181 testing_person2___5                    int64  \n",
      " 182 testing_person2___6                    int64  \n",
      " 183 testing_person2___7                    int64  \n",
      " 184 ask_test_person2                       float64\n",
      " 185 positive_test_person2___1              int64  \n",
      " 186 positive_test_person2___2              int64  \n",
      " 187 positive_test_person2___3              int64  \n",
      " 188 positive_test_person2___4              int64  \n",
      " 189 positive_test_person2___8              int64  \n",
      " 190 positive_test_person2___5              int64  \n",
      " 191 positive_test_person2___9              int64  \n",
      " 192 positive_test_person2___6              int64  \n",
      " 193 positive_test_person2___7              int64  \n",
      " 194 results_influenza_person2              float64\n",
      " 195 results_covid19_person2                float64\n",
      " 196 results_rsv_person2                    float64\n",
      " 197 results_dengue_person2                 float64\n",
      " 198 contact_person2                        float64\n",
      " 199 travel_person2                         float64\n",
      " 200 travel_dest_person2___1                int64  \n",
      " 201 travel_dest_person2___2                int64  \n",
      " 202 travel_dest_person2___3                int64  \n",
      " 203 travel_dest_person2___4                int64  \n",
      " 204 travel_dest_person2___5                int64  \n",
      " 205 travel_dest_person2___6                int64  \n",
      " 206 travel_dest_person2___7                int64  \n",
      " 207 travel_dest_person2___8                int64  \n",
      " 208 state_travel_person2                   float64\n",
      " 209 age_person3                            float64\n",
      " 210 gender_person3                         float64\n",
      " 211 pre_cond_person3___1                   int64  \n",
      " 212 pre_cond_person3___2                   int64  \n",
      " 213 pre_cond_person3___3                   int64  \n",
      " 214 pre_cond_person3___4                   int64  \n",
      " 215 pre_cond_person3___5                   int64  \n",
      " 216 pre_cond_person3___8                   int64  \n",
      " 217 pre_cond_person3___9                   int64  \n",
      " 218 pre_cond_person3___10                  int64  \n",
      " 219 pre_cond_person3___11                  int64  \n",
      " 220 pre_cond_person3___6                   int64  \n",
      " 221 pre_cond_person3___7                   int64  \n",
      " 222 other_pre_cond_person3                 object \n",
      " 223 person_3_symptoms___1                  int64  \n",
      " 224 person_3_symptoms___2                  int64  \n",
      " 225 person_3_symptoms___3                  int64  \n",
      " 226 person_3_symptoms___4                  int64  \n",
      " 227 person_3_symptoms___5                  int64  \n",
      " 228 person_3_symptoms___6                  int64  \n",
      " 229 person_3_symptoms___7                  int64  \n",
      " 230 person_3_symptoms___8                  int64  \n",
      " 231 person_3_symptoms___9                  int64  \n",
      " 232 person_3_symptoms___10                 int64  \n",
      " 233 person_3_symptoms___11                 int64  \n",
      " 234 person_3_symptoms___12                 int64  \n",
      " 235 person_3_symptoms___13                 int64  \n",
      " 236 person_3_symptoms___14                 int64  \n",
      " 237 fever_temp_person3                     float64\n",
      " 238 unit_temp_person3                      float64\n",
      " 239 symp_date_person3                      object \n",
      " 240 health_visit_person3                   float64\n",
      " 241 testing_person3___1                    int64  \n",
      " 242 testing_person3___2                    int64  \n",
      " 243 testing_person3___3                    int64  \n",
      " 244 testing_person3___4                    int64  \n",
      " 245 testing_person3___8                    int64  \n",
      " 246 testing_person3___5                    int64  \n",
      " 247 testing_person3___6                    int64  \n",
      " 248 testing_person3___7                    int64  \n",
      " 249 ask_test_person3                       float64\n",
      " 250 positive_test_person3___1              int64  \n",
      " 251 positive_test_person3___2              int64  \n",
      " 252 positive_test_person3___3              int64  \n",
      " 253 positive_test_person3___4              int64  \n",
      " 254 positive_test_person3___8              int64  \n",
      " 255 positive_test_person3___5              int64  \n",
      " 256 positive_test_person3___9              int64  \n",
      " 257 positive_test_person3___6              int64  \n",
      " 258 positive_test_person3___7              int64  \n",
      " 259 results_influenza_person3              float64\n",
      " 260 results_covid19_person3                float64\n",
      " 261 results_rsv_person3                    float64\n",
      " 262 results_dengue_person3                 float64\n",
      " 263 contact_person3                        float64\n",
      " 264 travel_person3                         float64\n",
      " 265 travel_dest_person3___1                int64  \n",
      " 266 travel_dest_person3___2                int64  \n",
      " 267 travel_dest_person3___3                int64  \n",
      " 268 travel_dest_person3___4                int64  \n",
      " 269 travel_dest_person3___5                int64  \n",
      " 270 travel_dest_person3___6                int64  \n",
      " 271 travel_dest_person3___7                int64  \n",
      " 272 travel_dest_person3___8                int64  \n",
      " 273 state_travel_person3                   float64\n",
      " 274 age_person4                            float64\n",
      " 275 gender_person4                         float64\n",
      " 276 pre_cond_person4___1                   int64  \n",
      " 277 pre_cond_person4___2                   int64  \n",
      " 278 pre_cond_person4___3                   int64  \n",
      " 279 pre_cond_person4___4                   int64  \n",
      " 280 pre_cond_person4___5                   int64  \n",
      " 281 pre_cond_person4___8                   int64  \n",
      " 282 pre_cond_person4___9                   int64  \n",
      " 283 pre_cond_person4___10                  int64  \n",
      " 284 pre_cond_person4___11                  int64  \n",
      " 285 pre_cond_person4___6                   int64  \n",
      " 286 pre_cond_person4___7                   int64  \n",
      " 287 other_pre_cond_person4                 float64\n",
      " 288 person_4_symptoms___1                  int64  \n",
      " 289 person_4_symptoms___2                  int64  \n",
      " 290 person_4_symptoms___3                  int64  \n",
      " 291 person_4_symptoms___4                  int64  \n",
      " 292 person_4_symptoms___5                  int64  \n",
      " 293 person_4_symptoms___6                  int64  \n",
      " 294 person_4_symptoms___7                  int64  \n",
      " 295 person_4_symptoms___8                  int64  \n",
      " 296 person_4_symptoms___9                  int64  \n",
      " 297 person_4_symptoms___10                 int64  \n",
      " 298 person_4_symptoms___11                 int64  \n",
      " 299 person_4_symptoms___12                 int64  \n",
      " 300 person_4_symptoms___13                 int64  \n",
      " 301 person_4_symptoms___14                 int64  \n",
      " 302 fever_temp_person4                     float64\n",
      " 303 unit_temp_person4                      float64\n",
      " 304 symp_date_person4                      object \n",
      " 305 health_visit_person4                   float64\n",
      " 306 testing_person4___1                    int64  \n",
      " 307 testing_person4___2                    int64  \n",
      " 308 testing_person4___3                    int64  \n",
      " 309 testing_person4___4                    int64  \n",
      " 310 testing_person4___8                    int64  \n",
      " 311 testing_person4___5                    int64  \n",
      " 312 testing_person4___6                    int64  \n",
      " 313 testing_person4___7                    int64  \n",
      " 314 ask_test_person4                       float64\n",
      " 315 positive_test_person4___1              int64  \n",
      " 316 positive_test_person4___2              int64  \n",
      " 317 positive_test_person4___3              int64  \n",
      " 318 positive_test_person4___4              int64  \n",
      " 319 positive_test_person4___8              int64  \n",
      " 320 positive_test_person4___5              int64  \n",
      " 321 positive_test_person4___9              int64  \n",
      " 322 positive_test_person4___6              int64  \n",
      " 323 positive_test_person4___7              int64  \n",
      " 324 results_influenza_person4              float64\n",
      " 325 results_covid19_person4                float64\n",
      " 326 results_rsv_person4                    float64\n",
      " 327 results_dengue_person4                 float64\n",
      " 328 contact_person4                        float64\n",
      " 329 travel_person4                         float64\n",
      " 330 travel_dest_person4___1                int64  \n",
      " 331 travel_dest_person4___2                int64  \n",
      " 332 travel_dest_person4___3                int64  \n",
      " 333 travel_dest_person4___4                int64  \n",
      " 334 travel_dest_person4___5                int64  \n",
      " 335 travel_dest_person4___6                int64  \n",
      " 336 travel_dest_person4___7                int64  \n",
      " 337 travel_dest_person4___8                int64  \n",
      " 338 state_travel_person4                   float64\n",
      " 339 age_person5                            float64\n",
      " 340 gender_person5                         float64\n",
      " 341 pre_cond_person5___1                   int64  \n",
      " 342 pre_cond_person5___2                   int64  \n",
      " 343 pre_cond_person5___3                   int64  \n",
      " 344 pre_cond_person5___4                   int64  \n",
      " 345 pre_cond_person5___5                   int64  \n",
      " 346 pre_cond_person5___8                   int64  \n",
      " 347 pre_cond_person5___9                   int64  \n",
      " 348 pre_cond_person5___10                  int64  \n",
      " 349 pre_cond_person5___11                  int64  \n",
      " 350 pre_cond_person5___6                   int64  \n",
      " 351 pre_cond_person5___7                   int64  \n",
      " 352 other_pre_cond_person5                 object \n",
      " 353 person_5_symptoms___1                  int64  \n",
      " 354 person_5_symptoms___2                  int64  \n",
      " 355 person_5_symptoms___3                  int64  \n",
      " 356 person_5_symptoms___4                  int64  \n",
      " 357 person_5_symptoms___5                  int64  \n",
      " 358 person_5_symptoms___6                  int64  \n",
      " 359 person_5_symptoms___7                  int64  \n",
      " 360 person_5_symptoms___8                  int64  \n",
      " 361 person_5_symptoms___9                  int64  \n",
      " 362 person_5_symptoms___10                 int64  \n",
      " 363 person_5_symptoms___11                 int64  \n",
      " 364 person_5_symptoms___12                 int64  \n",
      " 365 person_5_symptoms___13                 int64  \n",
      " 366 person_5_symptoms___14                 int64  \n",
      " 367 fever_temp_person5                     float64\n",
      " 368 unit_temp_person5                      float64\n",
      " 369 symp_date_person5                      object \n",
      " 370 health_visit_person5                   float64\n",
      " 371 testing_person5___1                    int64  \n",
      " 372 testing_person5___2                    int64  \n",
      " 373 testing_person5___3                    int64  \n",
      " 374 testing_person5___4                    int64  \n",
      " 375 testing_person5___8                    int64  \n",
      " 376 testing_person5___5                    int64  \n",
      " 377 testing_person5___6                    int64  \n",
      " 378 testing_person5___7                    int64  \n",
      " 379 ask_test_person5                       float64\n",
      " 380 positive_test_person5___1              int64  \n",
      " 381 positive_test_person5___2              int64  \n",
      " 382 positive_test_person5___3              int64  \n",
      " 383 positive_test_person5___4              int64  \n",
      " 384 positive_test_person5___8              int64  \n",
      " 385 positive_test_person5___5              int64  \n",
      " 386 positive_test_person5___9              int64  \n",
      " 387 positive_test_person5___6              int64  \n",
      " 388 positive_test_person5___7              int64  \n",
      " 389 results_influenza_person5              float64\n",
      " 390 results_covid19_person5                float64\n",
      " 391 results_rsv_person5                    float64\n",
      " 392 results_dengue_person5                 float64\n",
      " 393 contact_person5                        float64\n",
      " 394 travel_person5                         float64\n",
      " 395 travel_dest_person5___1                int64  \n",
      " 396 travel_dest_person5___2                int64  \n",
      " 397 travel_dest_person5___3                int64  \n",
      " 398 travel_dest_person5___4                int64  \n",
      " 399 travel_dest_person5___5                int64  \n",
      " 400 travel_dest_person5___6                int64  \n",
      " 401 travel_dest_person5___7                int64  \n",
      " 402 travel_dest_person5___8                int64  \n",
      " 403 state_travel_person5                   float64\n",
      " 404 age_person6                            float64\n",
      " 405 gender_person6                         float64\n",
      " 406 pre_cond_person6___1                   int64  \n",
      " 407 pre_cond_person6___2                   int64  \n",
      " 408 pre_cond_person6___3                   int64  \n",
      " 409 pre_cond_person6___4                   int64  \n",
      " 410 pre_cond_person6___5                   int64  \n",
      " 411 pre_cond_person6___8                   int64  \n",
      " 412 pre_cond_person6___9                   int64  \n",
      " 413 pre_cond_person6___10                  int64  \n",
      " 414 pre_cond_person6___11                  int64  \n",
      " 415 pre_cond_person6___6                   int64  \n",
      " 416 pre_cond_person6___7                   int64  \n",
      " 417 other_pre_cond_person6                 float64\n",
      " 418 person_6_symptoms___1                  int64  \n",
      " 419 person_6_symptoms___2                  int64  \n",
      " 420 person_6_symptoms___3                  int64  \n",
      " 421 person_6_symptoms___4                  int64  \n",
      " 422 person_6_symptoms___5                  int64  \n",
      " 423 person_6_symptoms___6                  int64  \n",
      " 424 person_6_symptoms___7                  int64  \n",
      " 425 person_6_symptoms___8                  int64  \n",
      " 426 person_6_symptoms___9                  int64  \n",
      " 427 person_6_symptoms___10                 int64  \n",
      " 428 person_6_symptoms___11                 int64  \n",
      " 429 person_6_symptoms___12                 int64  \n",
      " 430 person_6_symptoms___13                 int64  \n",
      " 431 person_6_symptoms___14                 int64  \n",
      " 432 fever_temp_person6                     float64\n",
      " 433 unit_temp_person6                      float64\n",
      " 434 symp_date_person6                      object \n",
      " 435 health_visit_person6                   float64\n",
      " 436 testing_person6___1                    int64  \n",
      " 437 testing_person6___2                    int64  \n",
      " 438 testing_person6___3                    int64  \n",
      " 439 testing_person6___4                    int64  \n",
      " 440 testing_person6___8                    int64  \n",
      " 441 testing_person6___5                    int64  \n",
      " 442 testing_person6___6                    int64  \n",
      " 443 testing_person6___7                    int64  \n",
      " 444 ask_test_person6                       float64\n",
      " 445 positive_test_person6___1              int64  \n",
      " 446 positive_test_person6___2              int64  \n",
      " 447 positive_test_person6___3              int64  \n",
      " 448 positive_test_person6___4              int64  \n",
      " 449 positive_test_person6___8              int64  \n",
      " 450 positive_test_person6___5              int64  \n",
      " 451 positive_test_person6___9              int64  \n",
      " 452 positive_test_person6___6              int64  \n",
      " 453 positive_test_person6___7              int64  \n",
      " 454 results_influenza_person6              float64\n",
      " 455 results_covid19_person6                float64\n",
      " 456 results_rsv_person6                    float64\n",
      " 457 results_dengue_person6                 float64\n",
      " 458 contact_person6                        float64\n",
      " 459 travel_person6                         float64\n",
      " 460 travel_dest_person6___1                int64  \n",
      " 461 travel_dest_person6___2                int64  \n",
      " 462 travel_dest_person6___3                int64  \n",
      " 463 travel_dest_person6___4                int64  \n",
      " 464 travel_dest_person6___5                int64  \n",
      " 465 travel_dest_person6___6                int64  \n",
      " 466 travel_dest_person6___7                int64  \n",
      " 467 travel_dest_person6___8                int64  \n",
      " 468 state_travel_person6                   float64\n",
      " 469 age_person7                            float64\n",
      " 470 gender_person7                         float64\n",
      " 471 pre_cond_person7___1                   int64  \n",
      " 472 pre_cond_person7___2                   int64  \n",
      " 473 pre_cond_person7___3                   int64  \n",
      " 474 pre_cond_person7___4                   int64  \n",
      " 475 pre_cond_person7___5                   int64  \n",
      " 476 pre_cond_person7___8                   int64  \n",
      " 477 pre_cond_person7___9                   int64  \n",
      " 478 pre_cond_person7___10                  int64  \n",
      " 479 pre_cond_person7___11                  int64  \n",
      " 480 pre_cond_person7___6                   int64  \n",
      " 481 pre_cond_person7___7                   int64  \n",
      " 482 other_pre_cond_person7                 float64\n",
      " 483 person_7_symptoms___1                  int64  \n",
      " 484 person_7_symptoms___2                  int64  \n",
      " 485 person_7_symptoms___3                  int64  \n",
      " 486 person_7_symptoms___4                  int64  \n",
      " 487 person_7_symptoms___5                  int64  \n",
      " 488 person_7_symptoms___6                  int64  \n",
      " 489 person_7_symptoms___7                  int64  \n",
      " 490 person_7_symptoms___8                  int64  \n",
      " 491 person_7_symptoms___9                  int64  \n",
      " 492 person_7_symptoms___10                 int64  \n",
      " 493 person_7_symptoms___11                 int64  \n",
      " 494 person_7_symptoms___12                 int64  \n",
      " 495 person_7_symptoms___13                 int64  \n",
      " 496 person_7_symptoms___14                 int64  \n",
      " 497 fever_temp_person7                     float64\n",
      " 498 unit_temp_person7                      float64\n",
      " 499 symp_date_person7                      float64\n",
      " 500 health_visit_person7                   float64\n",
      " 501 testing_person7___1                    int64  \n",
      " 502 testing_person7___2                    int64  \n",
      " 503 testing_person7___3                    int64  \n",
      " 504 testing_person7___4                    int64  \n",
      " 505 testing_person7___8                    int64  \n",
      " 506 testing_person7___5                    int64  \n",
      " 507 testing_person7___6                    int64  \n",
      " 508 testing_person7___7                    int64  \n",
      " 509 ask_test_person7                       float64\n",
      " 510 positive_test_person7___1              int64  \n",
      " 511 positive_test_person7___2              int64  \n",
      " 512 positive_test_person7___3              int64  \n",
      " 513 positive_test_person7___4              int64  \n",
      " 514 positive_test_person7___8              int64  \n",
      " 515 positive_test_person7___5              int64  \n",
      " 516 positive_test_person7___9              int64  \n",
      " 517 positive_test_person7___6              int64  \n",
      " 518 positive_test_person7___7              int64  \n",
      " 519 results_influenza_person7              float64\n",
      " 520 results_covid19_person7                float64\n",
      " 521 results_rsv_person7                    float64\n",
      " 522 results_dengue_person7                 float64\n",
      " 523 contact_person7                        float64\n",
      " 524 travel_person7                         float64\n",
      " 525 travel_dest_person7___1                int64  \n",
      " 526 travel_dest_person7___2                int64  \n",
      " 527 travel_dest_person7___3                int64  \n",
      " 528 travel_dest_person7___4                int64  \n",
      " 529 travel_dest_person7___5                int64  \n",
      " 530 travel_dest_person7___6                int64  \n",
      " 531 travel_dest_person7___7                int64  \n",
      " 532 travel_dest_person7___8                int64  \n",
      " 533 state_travel_person7                   float64\n",
      " 534 age_person8                            float64\n",
      " 535 gender_person8                         float64\n",
      " 536 pre_cond_person8___1                   int64  \n",
      " 537 pre_cond_person8___2                   int64  \n",
      " 538 pre_cond_person8___3                   int64  \n",
      " 539 pre_cond_person8___4                   int64  \n",
      " 540 pre_cond_person8___5                   int64  \n",
      " 541 pre_cond_person8___8                   int64  \n",
      " 542 pre_cond_person8___9                   int64  \n",
      " 543 pre_cond_person8___10                  int64  \n",
      " 544 pre_cond_person8___11                  int64  \n",
      " 545 pre_cond_person8___6                   int64  \n",
      " 546 pre_cond_person8___7                   int64  \n",
      " 547 other_pre_cond_person8                 float64\n",
      " 548 person_8_symptoms___1                  int64  \n",
      " 549 person_8_symptoms___2                  int64  \n",
      " 550 person_8_symptoms___3                  int64  \n",
      " 551 person_8_symptoms___4                  int64  \n",
      " 552 person_8_symptoms___5                  int64  \n",
      " 553 person_8_symptoms___6                  int64  \n",
      " 554 person_8_symptoms___7                  int64  \n",
      " 555 person_8_symptoms___8                  int64  \n",
      " 556 person_8_symptoms___9                  int64  \n",
      " 557 person_8_symptoms___10                 int64  \n",
      " 558 person_8_symptoms___11                 int64  \n",
      " 559 person_8_symptoms___12                 int64  \n",
      " 560 person_8_symptoms___13                 int64  \n",
      " 561 person_8_symptoms___14                 int64  \n",
      " 562 fever_temp_person8                     float64\n",
      " 563 unit_temp_person8                      float64\n",
      " 564 symp_date_person8                      float64\n",
      " 565 health_visit_person8                   float64\n",
      " 566 testing_person8___1                    int64  \n",
      " 567 testing_person8___2                    int64  \n",
      " 568 testing_person8___3                    int64  \n",
      " 569 testing_person8___4                    int64  \n",
      " 570 testing_person8___8                    int64  \n",
      " 571 testing_person8___5                    int64  \n",
      " 572 testing_person8___6                    int64  \n",
      " 573 testing_person8___7                    int64  \n",
      " 574 ask_test_person8                       float64\n",
      " 575 positive_test_person8___1              int64  \n",
      " 576 positive_test_person8___2              int64  \n",
      " 577 positive_test_person8___3              int64  \n",
      " 578 positive_test_person8___4              int64  \n",
      " 579 positive_test_person8___8              int64  \n",
      " 580 positive_test_person8___5              int64  \n",
      " 581 positive_test_person8___9              int64  \n",
      " 582 positive_test_person8___6              int64  \n",
      " 583 positive_test_person8___7              int64  \n",
      " 584 results_influenza_person8              float64\n",
      " 585 results_covid19_person8                float64\n",
      " 586 results_rsv_person8                    float64\n",
      " 587 results_dengue_person8                 float64\n",
      " 588 contact_person8                        float64\n",
      " 589 travel_person8                         float64\n",
      " 590 travel_dest_person8___1                int64  \n",
      " 591 travel_dest_person8___2                int64  \n",
      " 592 travel_dest_person8___3                int64  \n",
      " 593 travel_dest_person8___4                int64  \n",
      " 594 travel_dest_person8___5                int64  \n",
      " 595 travel_dest_person8___6                int64  \n",
      " 596 travel_dest_person8___7                int64  \n",
      " 597 travel_dest_person8___8                int64  \n",
      " 598 state_travel_person8                   float64\n",
      " 599 age_person9                            float64\n",
      " 600 gender_person9                         float64\n",
      " 601 pre_cond_person9___1                   int64  \n",
      " 602 pre_cond_person9___2                   int64  \n",
      " 603 pre_cond_person9___3                   int64  \n",
      " 604 pre_cond_person9___4                   int64  \n",
      " 605 pre_cond_person9___5                   int64  \n",
      " 606 pre_cond_person9___8                   int64  \n",
      " 607 pre_cond_person9___9                   int64  \n",
      " 608 pre_cond_person9___10                  int64  \n",
      " 609 pre_cond_person9___11                  int64  \n",
      " 610 pre_cond_person9___6                   int64  \n",
      " 611 pre_cond_person9___7                   int64  \n",
      " 612 other_pre_cond_person9                 float64\n",
      " 613 person_9_symptoms___1                  int64  \n",
      " 614 person_9_symptoms___2                  int64  \n",
      " 615 person_9_symptoms___3                  int64  \n",
      " 616 person_9_symptoms___4                  int64  \n",
      " 617 person_9_symptoms___5                  int64  \n",
      " 618 person_9_symptoms___6                  int64  \n",
      " 619 person_9_symptoms___7                  int64  \n",
      " 620 person_9_symptoms___8                  int64  \n",
      " 621 person_9_symptoms___9                  int64  \n",
      " 622 person_9_symptoms___10                 int64  \n",
      " 623 person_9_symptoms___11                 int64  \n",
      " 624 person_9_symptoms___12                 int64  \n",
      " 625 person_9_symptoms___13                 int64  \n",
      " 626 person_9_symptoms___14                 int64  \n",
      " 627 fever_temp_person9                     float64\n",
      " 628 unit_temp_person9                      float64\n",
      " 629 symp_date_person9                      float64\n",
      " 630 health_visit_person9                   float64\n",
      " 631 testing_person9___1                    int64  \n",
      " 632 testing_person9___2                    int64  \n",
      " 633 testing_person9___3                    int64  \n",
      " 634 testing_person9___4                    int64  \n",
      " 635 testing_person9___8                    int64  \n",
      " 636 testing_person9___5                    int64  \n",
      " 637 testing_person9___6                    int64  \n",
      " 638 testing_person9___7                    int64  \n",
      " 639 ask_test_person9                       float64\n",
      " 640 positive_test_person9___1              int64  \n",
      " 641 positive_test_person9___2              int64  \n",
      " 642 positive_test_person9___3              int64  \n",
      " 643 positive_test_person9___4              int64  \n",
      " 644 positive_test_person9___8              int64  \n",
      " 645 positive_test_person9___5              int64  \n",
      " 646 positive_test_person9___9              int64  \n",
      " 647 positive_test_person9___6              int64  \n",
      " 648 positive_test_person9___7              int64  \n",
      " 649 results_influenza_person9              float64\n",
      " 650 results_covid19_person9                float64\n",
      " 651 results_rsv_person9                    float64\n",
      " 652 results_dengue_person9                 float64\n",
      " 653 contact_person9                        float64\n",
      " 654 travel_person9                         float64\n",
      " 655 travel_dest_person9___1                int64  \n",
      " 656 travel_dest_person9___2                int64  \n",
      " 657 travel_dest_person9___3                int64  \n",
      " 658 travel_dest_person9___4                int64  \n",
      " 659 travel_dest_person9___5                int64  \n",
      " 660 travel_dest_person9___6                int64  \n",
      " 661 travel_dest_person9___7                int64  \n",
      " 662 travel_dest_person9___8                int64  \n",
      " 663 state_travel_person9                   float64\n",
      " 664 age_person10                           float64\n",
      " 665 gender_person10                        float64\n",
      " 666 pre_cond_person10___1                  int64  \n",
      " 667 pre_cond_person10___2                  int64  \n",
      " 668 pre_cond_person10___3                  int64  \n",
      " 669 pre_cond_person10___4                  int64  \n",
      " 670 pre_cond_person10___5                  int64  \n",
      " 671 pre_cond_person10___8                  int64  \n",
      " 672 pre_cond_person10___9                  int64  \n",
      " 673 pre_cond_person10___10                 int64  \n",
      " 674 pre_cond_person10___11                 int64  \n",
      " 675 pre_cond_person10___6                  int64  \n",
      " 676 pre_cond_person10___7                  int64  \n",
      " 677 other_pre_cond_person10                float64\n",
      " 678 person_10_symptoms___1                 int64  \n",
      " 679 person_10_symptoms___2                 int64  \n",
      " 680 person_10_symptoms___3                 int64  \n",
      " 681 person_10_symptoms___4                 int64  \n",
      " 682 person_10_symptoms___5                 int64  \n",
      " 683 person_10_symptoms___6                 int64  \n",
      " 684 person_10_symptoms___7                 int64  \n",
      " 685 person_10_symptoms___8                 int64  \n",
      " 686 person_10_symptoms___9                 int64  \n",
      " 687 person_10_symptoms___10                int64  \n",
      " 688 person_10_symptoms___11                int64  \n",
      " 689 person_10_symptoms___12                int64  \n",
      " 690 person_10_symptoms___13                int64  \n",
      " 691 person_10_symptoms___14                int64  \n",
      " 692 fever_temp_person10                    float64\n",
      " 693 unit_temp_person10                     float64\n",
      " 694 symp_date_person10                     float64\n",
      " 695 health_visit_person10                  float64\n",
      " 696 testing_person10___1                   int64  \n",
      " 697 testing_person10___2                   int64  \n",
      " 698 testing_person10___3                   int64  \n",
      " 699 testing_person10___4                   int64  \n",
      " 700 testing_person10___8                   int64  \n",
      " 701 testing_person10___5                   int64  \n",
      " 702 testing_person10___6                   int64  \n",
      " 703 testing_person10___7                   int64  \n",
      " 704 ask_test_person10                      float64\n",
      " 705 positive_test_person10___1             int64  \n",
      " 706 positive_test_person10___2             int64  \n",
      " 707 positive_test_person10___3             int64  \n",
      " 708 positive_test_person10___4             int64  \n",
      " 709 positive_test_person10___8             int64  \n",
      " 710 positive_test_person10___5             int64  \n",
      " 711 positive_test_person10___9             int64  \n",
      " 712 positive_test_person10___6             int64  \n",
      " 713 positive_test_person10___7             int64  \n",
      " 714 results_influenza_person10             float64\n",
      " 715 results_covid19_person10               float64\n",
      " 716 results_rsv_person10                   float64\n",
      " 717 results_dengue_person10                float64\n",
      " 718 contact_person10                       float64\n",
      " 719 travel_person10                        float64\n",
      " 720 travel_dest_person10___1               int64  \n",
      " 721 travel_dest_person10___2               int64  \n",
      " 722 travel_dest_person10___3               int64  \n",
      " 723 travel_dest_person10___4               int64  \n",
      " 724 travel_dest_person10___5               int64  \n",
      " 725 travel_dest_person10___6               int64  \n",
      " 726 travel_dest_person10___7               int64  \n",
      " 727 travel_dest_person10___8               int64  \n",
      " 728 state_travel_person10                  float64\n",
      " 729 social_dist                            float64\n",
      " 730 social_measures___1                    int64  \n",
      " 731 social_measures___2                    int64  \n",
      " 732 social_measures___3                    int64  \n",
      " 733 social_measures___4                    int64  \n",
      " 734 social_measures___5                    int64  \n",
      " 735 social_measures___6                    int64  \n",
      " 736 social_measures___7                    int64  \n",
      " 737 social_measures___8                    int64  \n",
      " 738 social_measures___9                    int64  \n",
      " 739 medical_cancel                         float64\n",
      " 740 week_challenges___1                    int64  \n",
      " 741 week_challenges___2                    int64  \n",
      " 742 week_challenges___3                    int64  \n",
      " 743 week_challenges___4                    int64  \n",
      " 744 week_challenges___5                    int64  \n",
      " 745 week_challenges___6                    int64  \n",
      " 746 week_challenges___7                    int64  \n",
      " 747 week_challenges___8                    int64  \n",
      " 748 afford1                                float64\n",
      " 749 afford2                                float64\n",
      " 750 afford3                                float64\n",
      " 751 research                               float64\n",
      " 752 covid19_surveillance_survey_complete   int64  \n",
      " 753 sick_checkin_timestamp                 float64\n",
      " 754 seek_care                              float64\n",
      " 755 lab_results                            float64\n",
      " 756 positive___1                           float64\n",
      " 757 positive___2                           float64\n",
      " 758 positive___3                           float64\n",
      " 759 positive___4                           float64\n",
      " 760 positive___5                           float64\n",
      " 761 positive___6                           float64\n",
      " 762 positive___7                           float64\n",
      " 763 positive___8                           float64\n",
      " 764 results_sick                           float64\n",
      " 765 symptoms___1                           float64\n",
      " 766 symptoms___2                           float64\n",
      " 767 symptoms___3                           float64\n",
      " 768 symptoms___4                           float64\n",
      " 769 symptoms___5                           float64\n",
      " 770 symptoms___6                           float64\n",
      " 771 symptoms___7                           float64\n",
      " 772 symptoms___8                           float64\n",
      " 773 symptoms___9                           float64\n",
      " 774 symptoms___10                          float64\n",
      " 775 symptoms___11                          float64\n",
      " 776 symptoms___12                          float64\n",
      " 777 symptoms___13                          float64\n",
      " 778 symptoms___14                          float64\n",
      " 779 symptoms___15                          float64\n",
      " 780 symptoms___16                          float64\n",
      " 781 symptoms___17                          float64\n",
      " 782 symptoms___18                          float64\n",
      " 783 scale                                  float64\n",
      " 784 sick_checkin_complete                  float64\n",
      "dtypes: float64(184), int64(573), object(28)\n",
      "memory usage: 72.3+ MB\n"
     ]
    }
   ],
   "source": [
    "df.info([0])"
   ]
  },
  {
   "cell_type": "code",
   "execution_count": 6,
   "metadata": {},
   "outputs": [
    {
     "data": {
      "text/plain": [
       "True"
      ]
     },
     "execution_count": 6,
     "metadata": {},
     "output_type": "execute_result"
    }
   ],
   "source": [
    "from pandas.api.types import is_string_dtype\n",
    "from pandas.api.types import is_numeric_dtype\n",
    "\n",
    "is_string_dtype(df['timestamp'])\n",
    "\n",
    "## timestamp is a string, should convert to datetime"
   ]
  },
  {
   "cell_type": "code",
   "execution_count": 7,
   "metadata": {
    "scrolled": false
   },
   "outputs": [
    {
     "data": {
      "text/plain": [
       "0              NaT\n",
       "1              NaT\n",
       "2              NaT\n",
       "3       2020-04-20\n",
       "4       2020-04-27\n",
       "           ...    \n",
       "12066          NaT\n",
       "12067          NaT\n",
       "12068   2020-06-16\n",
       "12069   2020-06-16\n",
       "12070   2020-06-16\n",
       "Name: timestamp, Length: 12071, dtype: datetime64[ns]"
      ]
     },
     "execution_count": 7,
     "metadata": {},
     "output_type": "execute_result"
    }
   ],
   "source": [
    "## timestamp column converted to datetime\n",
    "df[\"timestamp\"] = pd.to_datetime(df[\"timestamp\"], format=\"%Y/%m/%d\", errors = 'ignore')\n",
    "df[\"timestamp\"]"
   ]
  },
  {
   "cell_type": "code",
   "execution_count": 8,
   "metadata": {},
   "outputs": [
    {
     "data": {
      "text/plain": [
       "0          NaN\n",
       "1          NaN\n",
       "2          NaN\n",
       "3        April\n",
       "4        April\n",
       "         ...  \n",
       "12066      NaN\n",
       "12067      NaN\n",
       "12068     June\n",
       "12069     June\n",
       "12070     June\n",
       "Name: timestamp, Length: 12071, dtype: object"
      ]
     },
     "execution_count": 8,
     "metadata": {},
     "output_type": "execute_result"
    }
   ],
   "source": [
    "df['timestamp'].dt.month_name().str[:]"
   ]
  },
  {
   "cell_type": "code",
   "execution_count": 9,
   "metadata": {},
   "outputs": [
    {
     "data": {
      "text/plain": [
       "False    11640\n",
       "True       431\n",
       "Name: timestamp, dtype: int64"
      ]
     },
     "execution_count": 9,
     "metadata": {},
     "output_type": "execute_result"
    }
   ],
   "source": [
    "# True = number of null timestamps\n",
    "df[\"timestamp\"].isnull().value_counts()"
   ]
  },
  {
   "cell_type": "code",
   "execution_count": 10,
   "metadata": {
    "scrolled": true
   },
   "outputs": [
    {
     "data": {
      "text/plain": [
       "3       2020-04-20\n",
       "4       2020-04-27\n",
       "5       2020-05-05\n",
       "6       2020-05-26\n",
       "8       2020-04-16\n",
       "           ...    \n",
       "12064   2020-06-16\n",
       "12065   2020-06-16\n",
       "12068   2020-06-16\n",
       "12069   2020-06-16\n",
       "12070   2020-06-16\n",
       "Name: timestamp, Length: 11640, dtype: datetime64[ns]"
      ]
     },
     "execution_count": 10,
     "metadata": {},
     "output_type": "execute_result"
    }
   ],
   "source": [
    "# check for descending order\n",
    "df[\"timestamp\"].dropna(inplace = False)"
   ]
  },
  {
   "cell_type": "code",
   "execution_count": 11,
   "metadata": {},
   "outputs": [
    {
     "data": {
      "text/plain": [
       "2902"
      ]
     },
     "execution_count": 11,
     "metadata": {},
     "output_type": "execute_result"
    }
   ],
   "source": [
    "# total number of households participating\n",
    "df['household_size'].value_counts().sum()"
   ]
  },
  {
   "cell_type": "code",
   "execution_count": 12,
   "metadata": {},
   "outputs": [
    {
     "data": {
      "text/plain": [
       "2.0     1305\n",
       "1.0      516\n",
       "3.0      439\n",
       "4.0      376\n",
       "5.0      160\n",
       "6.0       61\n",
       "7.0       26\n",
       "8.0        8\n",
       "0.0        7\n",
       "10.0       2\n",
       "9.0        1\n",
       "33.0       1\n",
       "Name: household_size, dtype: int64"
      ]
     },
     "execution_count": 12,
     "metadata": {},
     "output_type": "execute_result"
    }
   ],
   "source": [
    "# distribution of households by size\n",
    "df['household_size'].value_counts()"
   ]
  },
  {
   "cell_type": "code",
   "execution_count": 13,
   "metadata": {
    "scrolled": true
   },
   "outputs": [
    {
     "data": {
      "text/plain": [
       "1.0    11277\n",
       "2.0      379\n",
       "Name: health_household, dtype: int64"
      ]
     },
     "execution_count": 13,
     "metadata": {},
     "output_type": "execute_result"
    }
   ],
   "source": [
    "df['health_household'].value_counts()\n",
    "\n",
    "#examine these by month and week - fix datetime\n",
    "# sort timestamps in descending order and take first one\n",
    "# split by 30 and by 7 "
   ]
  },
  {
   "cell_type": "markdown",
   "metadata": {},
   "source": [
    "## Assessing for monthly household statistics"
   ]
  },
  {
   "cell_type": "code",
   "execution_count": 14,
   "metadata": {},
   "outputs": [
    {
     "data": {
      "text/plain": [
       "2020-04-24    9\n",
       "2020-04-01    8\n",
       "2020-04-25    8\n",
       "2020-04-19    7\n",
       "2020-04-22    6\n",
       "             ..\n",
       "2020-05-20    1\n",
       "2020-03-17    1\n",
       "2020-03-24    1\n",
       "1947-05-27    1\n",
       "2020-05-07    1\n",
       "Name: symp_date_person1, Length: 92, dtype: int64"
      ]
     },
     "execution_count": 14,
     "metadata": {},
     "output_type": "execute_result"
    }
   ],
   "source": [
    "# Start with single person household\n",
    "# possibly the number of people sick in a single person household, not accurate\n",
    "house1=df['symp_date_person1'].value_counts()\n",
    "house1"
   ]
  },
  {
   "cell_type": "code",
   "execution_count": 15,
   "metadata": {
    "scrolled": true
   },
   "outputs": [],
   "source": [
    "##add table for house1\n",
    "\n",
    "\n",
    "\n",
    "\n",
    "\n",
    "\n",
    "\n",
    "\n",
    "\n",
    "\n"
   ]
  },
  {
   "cell_type": "code",
   "execution_count": 16,
   "metadata": {},
   "outputs": [
    {
     "data": {
      "text/plain": [
       "1305"
      ]
     },
     "execution_count": 16,
     "metadata": {},
     "output_type": "execute_result"
    }
   ],
   "source": [
    "df[df.household_size == 2].shape[0]"
   ]
  },
  {
   "cell_type": "code",
   "execution_count": 17,
   "metadata": {},
   "outputs": [
    {
     "data": {
      "text/plain": [
       "36"
      ]
     },
     "execution_count": 17,
     "metadata": {},
     "output_type": "execute_result"
    }
   ],
   "source": [
    "# test script\n",
    "# total number of person1 sick in household of 2 people - does not match with cell below although it should?\n",
    "df.loc[df['household_size'] == 2, 'sick_choice_2___1'].sum()"
   ]
  },
  {
   "cell_type": "code",
   "execution_count": 18,
   "metadata": {},
   "outputs": [
    {
     "data": {
      "text/plain": [
       "100"
      ]
     },
     "execution_count": 18,
     "metadata": {},
     "output_type": "execute_result"
    }
   ],
   "source": [
    "#there seems to be a disparity between the total number of person1 feeling sick in a two person household\n",
    "df['sick_choice_2___1'].sum()"
   ]
  },
  {
   "cell_type": "code",
   "execution_count": 19,
   "metadata": {
    "scrolled": true
   },
   "outputs": [
    {
     "data": {
      "text/plain": [
       "20"
      ]
     },
     "execution_count": 19,
     "metadata": {},
     "output_type": "execute_result"
    }
   ],
   "source": [
    "#test script\n",
    "df.loc[df['household_size'] == 2, 'sick_choice_2___2'].sum()"
   ]
  },
  {
   "cell_type": "code",
   "execution_count": 20,
   "metadata": {
    "scrolled": true
   },
   "outputs": [
    {
     "data": {
      "text/plain": [
       "60"
      ]
     },
     "execution_count": 20,
     "metadata": {},
     "output_type": "execute_result"
    }
   ],
   "source": [
    "# same issue with total number of person2 feeling sick in a two person household, etc.\n",
    "df['sick_choice_2___2'].sum()"
   ]
  },
  {
   "cell_type": "code",
   "execution_count": 21,
   "metadata": {
    "scrolled": true
   },
   "outputs": [
    {
     "data": {
      "text/plain": [
       "timestamp\n",
       "April    59\n",
       "May      62\n",
       "June     38\n",
       "dtype: int64"
      ]
     },
     "execution_count": 21,
     "metadata": {},
     "output_type": "execute_result"
    }
   ],
   "source": [
    "# chose to go with script that assumes a higher baseline\n",
    "# total number of people sick in a 2 person household by month\n",
    "months = ['January', 'February', 'March', 'April','May','June', 'July', 'August','September', 'October', 'November', 'December']\n",
    "p2_1m = df.groupby(df['timestamp'].dt.month_name().str[:])['sick_choice_2___1'].sum()\n",
    "p2_2m = df.groupby(df['timestamp'].dt.month_name().str[:])['sick_choice_2___2'].sum()\n",
    "house2m = p2_1m + p2_2m\n",
    "house2m.index = pd.CategoricalIndex(house2m.index, categories=months, ordered=True)\n",
    "house2m = house2m.sort_index()\n",
    "house2m"
   ]
  },
  {
   "cell_type": "code",
   "execution_count": 22,
   "metadata": {},
   "outputs": [
    {
     "data": {
      "text/plain": [
       "160"
      ]
     },
     "execution_count": 22,
     "metadata": {},
     "output_type": "execute_result"
    }
   ],
   "source": [
    "# verify sum of people feeling sick in a 2 person household (off by 1 for some reason)\n",
    "df['sick_choice_2___1'].sum() + df['sick_choice_2___2'].sum()"
   ]
  },
  {
   "cell_type": "code",
   "execution_count": 23,
   "metadata": {},
   "outputs": [
    {
     "data": {
      "image/png": "[encoded data removed]",
      "text/plain": [
       "<Figure size 432x288 with 1 Axes>"
      ]
     },
     "metadata": {
      "needs_background": "light"
     },
     "output_type": "display_data"
    }
   ],
   "source": [
    "## Graph of total individuals feeling sick in a 2 person household by month\n",
    "house2m.plot(kind='bar');"
   ]
  },
  {
   "cell_type": "code",
   "execution_count": 24,
   "metadata": {},
   "outputs": [
    {
     "data": {
      "text/plain": [
       "timestamp\n",
       "April    29\n",
       "May      48\n",
       "June     14\n",
       "dtype: int64"
      ]
     },
     "execution_count": 24,
     "metadata": {},
     "output_type": "execute_result"
    }
   ],
   "source": [
    "# total number of people sick in a 3 person household by month\n",
    "p3_1m = df.groupby(df['timestamp'].dt.month_name().str[:])['sick_choice_3___1'].sum()\n",
    "p3_2m = df.groupby(df['timestamp'].dt.month_name().str[:])['sick_choice_3___2'].sum()\n",
    "p3_3m = df.groupby(df['timestamp'].dt.month_name().str[:])['sick_choice_3___3'].sum()\n",
    "house3m = p3_1m + p3_2m + p3_3m\n",
    "house3m.index = pd.CategoricalIndex(house3m.index, categories=months, ordered=True)\n",
    "house3m = house3m.sort_index()\n",
    "house3m"
   ]
  },
  {
   "cell_type": "code",
   "execution_count": 25,
   "metadata": {},
   "outputs": [
    {
     "data": {
      "text/plain": [
       "93"
      ]
     },
     "execution_count": 25,
     "metadata": {},
     "output_type": "execute_result"
    }
   ],
   "source": [
    "# verify sum of people feeling sick in a 3 person household (off by 2)\n",
    "df['sick_choice_3___1'].sum() + df['sick_choice_3___2'].sum() + df['sick_choice_3___3'].sum()"
   ]
  },
  {
   "cell_type": "code",
   "execution_count": 26,
   "metadata": {},
   "outputs": [
    {
     "data": {
      "image/png": "[encoded data removed]",
      "text/plain": [
       "<Figure size 432x288 with 1 Axes>"
      ]
     },
     "metadata": {
      "needs_background": "light"
     },
     "output_type": "display_data"
    }
   ],
   "source": [
    "## Graph of total individuals feeling sick in a 3 person household by month\n",
    "house3m.plot(kind='bar');"
   ]
  },
  {
   "cell_type": "code",
   "execution_count": 27,
   "metadata": {
    "scrolled": true
   },
   "outputs": [
    {
     "data": {
      "text/plain": [
       "timestamp\n",
       "April    23\n",
       "May      21\n",
       "June      4\n",
       "dtype: int64"
      ]
     },
     "execution_count": 27,
     "metadata": {},
     "output_type": "execute_result"
    }
   ],
   "source": [
    "# total number of people sick in a 4 person household by month\n",
    "p4_1m = df.groupby(df['timestamp'].dt.month_name().str[:])['sick_choice_4___1'].sum()\n",
    "p4_2m = df.groupby(df['timestamp'].dt.month_name().str[:])['sick_choice_4___2'].sum()\n",
    "p4_3m = df.groupby(df['timestamp'].dt.month_name().str[:])['sick_choice_4___3'].sum()\n",
    "p4_4m = df.groupby(df['timestamp'].dt.month_name().str[:])['sick_choice_4___4'].sum()\n",
    "house4m = p4_1m + p4_2m + p4_3m + p4_4m\n",
    "house4m.index = pd.CategoricalIndex(house4m.index, categories=months, ordered=True)\n",
    "house4m = house4m.sort_index()\n",
    "house4m"
   ]
  },
  {
   "cell_type": "code",
   "execution_count": 28,
   "metadata": {},
   "outputs": [
    {
     "data": {
      "text/plain": [
       "48"
      ]
     },
     "execution_count": 28,
     "metadata": {},
     "output_type": "execute_result"
    }
   ],
   "source": [
    "# verify sum of people feeling sick in a 4 person household (accurate)\n",
    "df['sick_choice_4___1'].sum() + df['sick_choice_4___2'].sum() + df['sick_choice_4___3'].sum() + df['sick_choice_4___4'].sum()"
   ]
  },
  {
   "cell_type": "code",
   "execution_count": 29,
   "metadata": {},
   "outputs": [
    {
     "data": {
      "image/png": "[encoded data removed]",
      "text/plain": [
       "<Figure size 432x288 with 1 Axes>"
      ]
     },
     "metadata": {
      "needs_background": "light"
     },
     "output_type": "display_data"
    }
   ],
   "source": [
    "## Graph of total individuals feeling sick in a 4 person household by month\n",
    "house4m.plot(kind='bar');"
   ]
  },
  {
   "cell_type": "code",
   "execution_count": 30,
   "metadata": {
    "scrolled": true
   },
   "outputs": [
    {
     "data": {
      "text/plain": [
       "timestamp\n",
       "April     5\n",
       "May      28\n",
       "June      9\n",
       "dtype: int64"
      ]
     },
     "execution_count": 30,
     "metadata": {},
     "output_type": "execute_result"
    }
   ],
   "source": [
    "# total number of people sick in a 5 person household by month\n",
    "p5_1m = df.groupby(df['timestamp'].dt.month_name().str[:])['sick_choice_5___1'].sum()\n",
    "p5_2m = df.groupby(df['timestamp'].dt.month_name().str[:])['sick_choice_5___2'].sum()\n",
    "p5_3m = df.groupby(df['timestamp'].dt.month_name().str[:])['sick_choice_5___3'].sum()\n",
    "p5_4m = df.groupby(df['timestamp'].dt.month_name().str[:])['sick_choice_5___4'].sum()\n",
    "p5_5m = df.groupby(df['timestamp'].dt.month_name().str[:])['sick_choice_5___5'].sum()\n",
    "house5m = p5_1m + p5_2m + p5_3m + p5_4m + p5_5m\n",
    "house5m.index = pd.CategoricalIndex(house5m.index, categories=months, ordered=True)\n",
    "house5m = house5m.sort_index()\n",
    "house5m"
   ]
  },
  {
   "cell_type": "code",
   "execution_count": 31,
   "metadata": {},
   "outputs": [
    {
     "data": {
      "text/plain": [
       "42"
      ]
     },
     "execution_count": 31,
     "metadata": {},
     "output_type": "execute_result"
    }
   ],
   "source": [
    "# verify sum of people feeling sick in a 5 person household (accurate)\n",
    "df['sick_choice_5___1'].sum() + df['sick_choice_5___2'].sum() + df['sick_choice_5___3'].sum() + df['sick_choice_5___4'].sum() + df['sick_choice_5___5'].sum()"
   ]
  },
  {
   "cell_type": "code",
   "execution_count": 32,
   "metadata": {
    "scrolled": true
   },
   "outputs": [
    {
     "data": {
      "image/png": "[encoded data removed]",
      "text/plain": [
       "<Figure size 432x288 with 1 Axes>"
      ]
     },
     "metadata": {
      "needs_background": "light"
     },
     "output_type": "display_data"
    }
   ],
   "source": [
    "## Graph of total individuals feeling sick in a 5 person household by month\n",
    "house5m.plot(kind='bar');"
   ]
  },
  {
   "cell_type": "code",
   "execution_count": 33,
   "metadata": {},
   "outputs": [
    {
     "data": {
      "text/plain": [
       "timestamp\n",
       "April     2\n",
       "May      10\n",
       "June      3\n",
       "dtype: int64"
      ]
     },
     "execution_count": 33,
     "metadata": {},
     "output_type": "execute_result"
    }
   ],
   "source": [
    "# total number of people sick in a 6 person household by month\n",
    "p6_1m = df.groupby(df['timestamp'].dt.month_name().str[:])['sick_choice_6___1'].sum()\n",
    "p6_2m = df.groupby(df['timestamp'].dt.month_name().str[:])['sick_choice_6___2'].sum()\n",
    "p6_3m = df.groupby(df['timestamp'].dt.month_name().str[:])['sick_choice_6___3'].sum()\n",
    "p6_4m = df.groupby(df['timestamp'].dt.month_name().str[:])['sick_choice_6___4'].sum()\n",
    "p6_5m = df.groupby(df['timestamp'].dt.month_name().str[:])['sick_choice_6___5'].sum()\n",
    "p6_6m = df.groupby(df['timestamp'].dt.month_name().str[:])['sick_choice_6___6'].sum()\n",
    "house6m = p6_1m + p6_2m + p6_3m + p6_4m + p6_5m + p6_6m\n",
    "house6m.index = pd.CategoricalIndex(house6m.index, categories=months, ordered=True)\n",
    "house6m = house6m.sort_index()\n",
    "house6m"
   ]
  },
  {
   "cell_type": "code",
   "execution_count": 34,
   "metadata": {},
   "outputs": [
    {
     "data": {
      "text/plain": [
       "15"
      ]
     },
     "execution_count": 34,
     "metadata": {},
     "output_type": "execute_result"
    }
   ],
   "source": [
    "# verify sum of people feeling sick in a 6 person household (accurate)\n",
    "df['sick_choice_6___1'].sum() + df['sick_choice_6___2'].sum() + df['sick_choice_6___3'].sum() + df['sick_choice_6___4'].sum() + df['sick_choice_6___5'].sum() + df['sick_choice_6___6'].sum()"
   ]
  },
  {
   "cell_type": "code",
   "execution_count": 35,
   "metadata": {
    "scrolled": true
   },
   "outputs": [
    {
     "data": {
      "image/png": "[encoded data removed]",
      "text/plain": [
       "<Figure size 432x288 with 1 Axes>"
      ]
     },
     "metadata": {
      "needs_background": "light"
     },
     "output_type": "display_data"
    }
   ],
   "source": [
    "## Graph of total individuals feeling sick in a 6 person household by month\n",
    "house6m.plot(kind='bar');"
   ]
  },
  {
   "cell_type": "code",
   "execution_count": 36,
   "metadata": {
    "scrolled": true
   },
   "outputs": [
    {
     "data": {
      "text/plain": [
       "timestamp\n",
       "April    1\n",
       "May      6\n",
       "June     0\n",
       "dtype: int64"
      ]
     },
     "execution_count": 36,
     "metadata": {},
     "output_type": "execute_result"
    }
   ],
   "source": [
    "# total number of people sick in a 7 person household by month\n",
    "p7_1m = df.groupby(df['timestamp'].dt.month_name().str[:])['sick_choice_7___1'].sum()\n",
    "p7_2m = df.groupby(df['timestamp'].dt.month_name().str[:])['sick_choice_7___2'].sum()\n",
    "p7_3m = df.groupby(df['timestamp'].dt.month_name().str[:])['sick_choice_7___3'].sum()\n",
    "p7_4m = df.groupby(df['timestamp'].dt.month_name().str[:])['sick_choice_7___4'].sum()\n",
    "p7_5m = df.groupby(df['timestamp'].dt.month_name().str[:])['sick_choice_7___5'].sum()\n",
    "p7_6m = df.groupby(df['timestamp'].dt.month_name().str[:])['sick_choice_7___6'].sum()\n",
    "p7_7m = df.groupby(df['timestamp'].dt.month_name().str[:])['sick_choice_7___7'].sum()\n",
    "house7m = p7_1m + p7_2m + p7_3m + p7_4m + p7_5m + p7_6m + p7_7m\n",
    "house7m.index = pd.CategoricalIndex(house7m.index, categories=months, ordered=True)\n",
    "house7m = house7m.sort_index()\n",
    "house7m"
   ]
  },
  {
   "cell_type": "code",
   "execution_count": 37,
   "metadata": {},
   "outputs": [
    {
     "data": {
      "text/plain": [
       "7"
      ]
     },
     "execution_count": 37,
     "metadata": {},
     "output_type": "execute_result"
    }
   ],
   "source": [
    "# verify sum of people feeling sick in a 7 person household (accurate)\n",
    "df['sick_choice_7___1'].sum() + df['sick_choice_7___2'].sum() + df['sick_choice_7___3'].sum() + df['sick_choice_7___4'].sum() + df['sick_choice_7___5'].sum() + df['sick_choice_7___6'].sum() + df['sick_choice_7___7'].sum()"
   ]
  },
  {
   "cell_type": "code",
   "execution_count": 38,
   "metadata": {
    "scrolled": true
   },
   "outputs": [
    {
     "data": {
      "image/png": "[encoded data removed]",
      "text/plain": [
       "<Figure size 432x288 with 1 Axes>"
      ]
     },
     "metadata": {
      "needs_background": "light"
     },
     "output_type": "display_data"
    }
   ],
   "source": [
    "## Graph of total individuals feeling sick in a 7 person household by month\n",
    "house7m.plot(kind='bar');"
   ]
  },
  {
   "cell_type": "code",
   "execution_count": 39,
   "metadata": {},
   "outputs": [
    {
     "data": {
      "text/plain": [
       "timestamp\n",
       "April    1\n",
       "May      0\n",
       "June     0\n",
       "dtype: int64"
      ]
     },
     "execution_count": 39,
     "metadata": {},
     "output_type": "execute_result"
    }
   ],
   "source": [
    "# total number of people sick in an 8 person household by month\n",
    "p8_1m = df.groupby(df['timestamp'].dt.month_name().str[:])['sick_choice_8___1'].sum()\n",
    "p8_2m = df.groupby(df['timestamp'].dt.month_name().str[:])['sick_choice_8___2'].sum()\n",
    "p8_3m = df.groupby(df['timestamp'].dt.month_name().str[:])['sick_choice_8___3'].sum()\n",
    "p8_4m = df.groupby(df['timestamp'].dt.month_name().str[:])['sick_choice_8___4'].sum()\n",
    "p8_5m = df.groupby(df['timestamp'].dt.month_name().str[:])['sick_choice_8___5'].sum()\n",
    "p8_6m = df.groupby(df['timestamp'].dt.month_name().str[:])['sick_choice_8___6'].sum()\n",
    "p8_7m = df.groupby(df['timestamp'].dt.month_name().str[:])['sick_choice_8___7'].sum()\n",
    "p8_8m = df.groupby(df['timestamp'].dt.month_name().str[:])['sick_choice_8___8'].sum()\n",
    "house8m = p8_1m + p8_2m + p8_3m + p8_4m + p8_5m + p8_6m + p8_7m + p8_8m\n",
    "house8m.index = pd.CategoricalIndex(house8m.index, categories=months, ordered=True)\n",
    "house8m = house8m.sort_index()\n",
    "house8m"
   ]
  },
  {
   "cell_type": "code",
   "execution_count": 40,
   "metadata": {},
   "outputs": [
    {
     "data": {
      "text/plain": [
       "1"
      ]
     },
     "execution_count": 40,
     "metadata": {},
     "output_type": "execute_result"
    }
   ],
   "source": [
    "# verify sum of people feeling sick in an 8 person household (accurate)\n",
    "df['sick_choice_8___1'].sum() + df['sick_choice_8___2'].sum() + df['sick_choice_8___3'].sum() + df['sick_choice_8___4'].sum() + df['sick_choice_8___5'].sum() + df['sick_choice_8___6'].sum() + df['sick_choice_8___7'].sum() + df['sick_choice_8___8'].sum()"
   ]
  },
  {
   "cell_type": "code",
   "execution_count": 41,
   "metadata": {
    "scrolled": true
   },
   "outputs": [
    {
     "data": {
      "image/png": "[encoded data removed]",
      "text/plain": [
       "<Figure size 432x288 with 1 Axes>"
      ]
     },
     "metadata": {
      "needs_background": "light"
     },
     "output_type": "display_data"
    }
   ],
   "source": [
    "## Graph of total individuals feeling sick in an 8 person household by month\n",
    "house8m.plot(kind='bar');"
   ]
  },
  {
   "cell_type": "code",
   "execution_count": 42,
   "metadata": {},
   "outputs": [
    {
     "data": {
      "text/plain": [
       "timestamp\n",
       "April    0\n",
       "May      0\n",
       "June     0\n",
       "dtype: int64"
      ]
     },
     "execution_count": 42,
     "metadata": {},
     "output_type": "execute_result"
    }
   ],
   "source": [
    "# total number of people sick in a 9 person household by month\n",
    "p9_1m = df.groupby(df['timestamp'].dt.month_name().str[:])['sick_choice_9___1'].sum()\n",
    "p9_2m = df.groupby(df['timestamp'].dt.month_name().str[:])['sick_choice_9___2'].sum()\n",
    "p9_3m = df.groupby(df['timestamp'].dt.month_name().str[:])['sick_choice_9___3'].sum()\n",
    "p9_4m = df.groupby(df['timestamp'].dt.month_name().str[:])['sick_choice_9___4'].sum()\n",
    "p9_5m = df.groupby(df['timestamp'].dt.month_name().str[:])['sick_choice_9___5'].sum()\n",
    "p9_6m = df.groupby(df['timestamp'].dt.month_name().str[:])['sick_choice_9___6'].sum()\n",
    "p9_7m = df.groupby(df['timestamp'].dt.month_name().str[:])['sick_choice_9___7'].sum()\n",
    "p9_8m = df.groupby(df['timestamp'].dt.month_name().str[:])['sick_choice_9___8'].sum()\n",
    "p9_9m = df.groupby(df['timestamp'].dt.month_name().str[:])['sick_choice_9___9'].sum()\n",
    "house9m = p9_1m + p9_2m + p9_3m + p9_4m + p9_5m + p9_6m + p9_7m + p9_8m + p9_9m\n",
    "house9m.index = pd.CategoricalIndex(house9m.index, categories=months, ordered=True)\n",
    "house9m = house9m.sort_index()\n",
    "house9m"
   ]
  },
  {
   "cell_type": "code",
   "execution_count": 43,
   "metadata": {},
   "outputs": [
    {
     "data": {
      "text/plain": [
       "0"
      ]
     },
     "execution_count": 43,
     "metadata": {},
     "output_type": "execute_result"
    }
   ],
   "source": [
    "# verify sum of people feeling sick in a 9 person household (accurate)\n",
    "df['sick_choice_9___1'].sum() + df['sick_choice_9___2'].sum() + df['sick_choice_9___3'].sum() + df['sick_choice_9___4'].sum() + df['sick_choice_9___5'].sum() + df['sick_choice_9___6'].sum() + df['sick_choice_9___7'].sum() + df['sick_choice_9___8'].sum() + df['sick_choice_9___9'].sum()"
   ]
  },
  {
   "cell_type": "code",
   "execution_count": 44,
   "metadata": {},
   "outputs": [
    {
     "data": {
      "text/plain": [
       "timestamp\n",
       "April    0\n",
       "May      1\n",
       "June     0\n",
       "dtype: int64"
      ]
     },
     "execution_count": 44,
     "metadata": {},
     "output_type": "execute_result"
    }
   ],
   "source": [
    "# total number of people sick in a 10 or more person household by month\n",
    "p10_1m = df.groupby(df['timestamp'].dt.month_name().str[:])['sick_choice_10___1'].sum()\n",
    "p10_2m = df.groupby(df['timestamp'].dt.month_name().str[:])['sick_choice_10___2'].sum()\n",
    "p10_3m = df.groupby(df['timestamp'].dt.month_name().str[:])['sick_choice_10___3'].sum()\n",
    "p10_4m = df.groupby(df['timestamp'].dt.month_name().str[:])['sick_choice_10___4'].sum()\n",
    "p10_5m = df.groupby(df['timestamp'].dt.month_name().str[:])['sick_choice_10___5'].sum()\n",
    "p10_6m = df.groupby(df['timestamp'].dt.month_name().str[:])['sick_choice_10___6'].sum()\n",
    "p10_7m = df.groupby(df['timestamp'].dt.month_name().str[:])['sick_choice_10___7'].sum()\n",
    "p10_8m = df.groupby(df['timestamp'].dt.month_name().str[:])['sick_choice_10___8'].sum()\n",
    "p10_9m = df.groupby(df['timestamp'].dt.month_name().str[:])['sick_choice_10___9'].sum()\n",
    "p10_10m = df.groupby(df['timestamp'].dt.month_name().str[:])['sick_choice_10___10'].sum()\n",
    "house10m = p10_1m + p10_2m + p10_3m + p10_4m + p10_5m + p10_6m + p10_7m + p10_8m + p10_9m + p10_10m\n",
    "house10m.index = pd.CategoricalIndex(house10m.index, categories=months, ordered=True)\n",
    "house10m = house10m.sort_index()\n",
    "house10m"
   ]
  },
  {
   "cell_type": "code",
   "execution_count": 45,
   "metadata": {},
   "outputs": [
    {
     "data": {
      "text/plain": [
       "11"
      ]
     },
     "execution_count": 45,
     "metadata": {},
     "output_type": "execute_result"
    }
   ],
   "source": [
    "# verify sum of people feeling sick in a household with 10 or more people (off by 10, no bueno)\n",
    "df['sick_choice_10___1'].sum() + df['sick_choice_10___2'].sum() + df['sick_choice_10___3'].sum() + df['sick_choice_10___4'].sum() + df['sick_choice_10___5'].sum() + df['sick_choice_10___6'].sum() + df['sick_choice_10___7'].sum() + df['sick_choice_10___8'].sum() + df['sick_choice_10___9'].sum() + df['sick_choice_10___10'].sum()"
   ]
  },
  {
   "cell_type": "markdown",
   "metadata": {},
   "source": [
    "## Assessing for weekly household statistics"
   ]
  },
  {
   "cell_type": "code",
   "execution_count": 46,
   "metadata": {},
   "outputs": [
    {
     "data": {
      "text/plain": [
       "timestamp\n",
       "15.0     0\n",
       "16.0     1\n",
       "17.0    17\n",
       "18.0    27\n",
       "19.0    11\n",
       "20.0    11\n",
       "21.0     6\n",
       "22.0     5\n",
       "23.0     8\n",
       "24.0     8\n",
       "25.0     5\n",
       "Name: sick_choice_2___1, dtype: int64"
      ]
     },
     "execution_count": 46,
     "metadata": {},
     "output_type": "execute_result"
    }
   ],
   "source": [
    "df.groupby(df['timestamp'].dt.weekofyear)['sick_choice_2___1'].sum()"
   ]
  },
  {
   "cell_type": "code",
   "execution_count": 47,
   "metadata": {},
   "outputs": [
    {
     "data": {
      "text/plain": [
       "timestamp\n",
       "15.0     0\n",
       "16.0     1\n",
       "17.0    25\n",
       "18.0    42\n",
       "19.0    23\n",
       "20.0    14\n",
       "21.0     9\n",
       "22.0     7\n",
       "23.0    11\n",
       "24.0    17\n",
       "25.0    10\n",
       "dtype: int64"
      ]
     },
     "execution_count": 47,
     "metadata": {},
     "output_type": "execute_result"
    }
   ],
   "source": [
    "# total number of people sick in a 2 person household by week of year\n",
    "p2_1w = df.groupby(df['timestamp'].dt.week)['sick_choice_2___1'].sum()\n",
    "p2_2w = df.groupby(df['timestamp'].dt.week)['sick_choice_2___2'].sum()\n",
    "house2w = p2_1w + p2_2w\n",
    "house2w"
   ]
  },
  {
   "cell_type": "code",
   "execution_count": null,
   "metadata": {},
   "outputs": [],
   "source": []
  }
 ],
 "metadata": {
  "kernelspec": {
   "display_name": "Python 3",
   "language": "python",
   "name": "python3"
  },
  "language_info": {
   "codemirror_mode": {
    "name": "ipython",
    "version": 3
   },
   "file_extension": ".py",
   "mimetype": "text/x-python",
   "name": "python",
   "nbconvert_exporter": "python",
   "pygments_lexer": "ipython3",
   "version": "3.7.7"
  }
 },
 "nbformat": 4,
 "nbformat_minor": 4
}
